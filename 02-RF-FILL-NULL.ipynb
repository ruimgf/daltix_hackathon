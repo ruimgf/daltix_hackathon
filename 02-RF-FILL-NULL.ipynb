{
 "cells": [
  {
   "cell_type": "code",
   "execution_count": 8,
   "metadata": {},
   "outputs": [],
   "source": [
    "import pandas as pd\n",
    "import numpy as np\n",
    "import pandas as pd\n",
    "import json\n",
    "\n",
    "from smart_open import smart_open\n",
    "%matplotlib inline\n",
    "import itertools\n",
    "import numpy as np"
   ]
  },
  {
   "cell_type": "code",
   "execution_count": 11,
   "metadata": {},
   "outputs": [],
   "source": [
    "def read_data():\n",
    "    with smart_open('./data/dataset.jsonl.gz') as fh:\n",
    "        dataset = [\n",
    "            json.loads(line.decode('utf-8'))\n",
    "            for line in fh\n",
    "        ]\n",
    "    return pd.DataFrame(dataset)"
   ]
  },
  {
   "cell_type": "code",
   "execution_count": 12,
   "metadata": {},
   "outputs": [],
   "source": [
    "def fill_na(df):\n",
    "    df['BRAND'] = df['BRAND'].fillna(df['NAME'].str.split(' ').str[0])\n",
    "    return df"
   ]
  },
  {
   "cell_type": "code",
   "execution_count": 13,
   "metadata": {},
   "outputs": [],
   "source": [
    "def drop_unusefull(df):\n",
    "    df = df.drop(columns=['SPECIFICATIONS','DISPLAY_URL','CONTENTS'])\n",
    "    return df"
   ]
  },
  {
   "cell_type": "code",
   "execution_count": 14,
   "metadata": {},
   "outputs": [],
   "source": [
    "df = read_data().pipe(fill_na).pipe(drop_unusefull)"
   ]
  },
  {
   "cell_type": "code",
   "execution_count": 15,
   "metadata": {},
   "outputs": [
    {
     "data": {
      "text/html": [
       "<div>\n",
       "<style scoped>\n",
       "    .dataframe tbody tr th:only-of-type {\n",
       "        vertical-align: middle;\n",
       "    }\n",
       "\n",
       "    .dataframe tbody tr th {\n",
       "        vertical-align: top;\n",
       "    }\n",
       "\n",
       "    .dataframe thead th {\n",
       "        text-align: right;\n",
       "    }\n",
       "</style>\n",
       "<table border=\"1\" class=\"dataframe\">\n",
       "  <thead>\n",
       "    <tr style=\"text-align: right;\">\n",
       "      <th></th>\n",
       "      <th>BRAND</th>\n",
       "      <th>DALTIX_ID</th>\n",
       "      <th>DESCRIPTION</th>\n",
       "      <th>NAME</th>\n",
       "      <th>PRODUCT_ID</th>\n",
       "      <th>SHOP</th>\n",
       "    </tr>\n",
       "  </thead>\n",
       "  <tbody>\n",
       "    <tr>\n",
       "      <th>0</th>\n",
       "      <td>Kärcher</td>\n",
       "      <td>43823f3f6826dcfd1f14b5898d742a1ead54937001f980...</td>\n",
       "      <td>De velgenreiniger 'Car &amp; Bike' van Kärcher is ...</td>\n",
       "      <td>Kärcher velgenreiniger 'Car &amp; Bike' 0,5 L</td>\n",
       "      <td>5305104</td>\n",
       "      <td>planit</td>\n",
       "    </tr>\n",
       "    <tr>\n",
       "      <th>1</th>\n",
       "      <td>Levi's</td>\n",
       "      <td>2258f16fa7ff7aab35c4534ac645017637d072f2fee9cc...</td>\n",
       "      <td>De matte muurverf Originals potloodgrijs van L...</td>\n",
       "      <td>Muurverf Originals mat 2,5l potloodgrijs</td>\n",
       "      <td>9200000095428359</td>\n",
       "      <td>bol</td>\n",
       "    </tr>\n",
       "    <tr>\n",
       "      <th>2</th>\n",
       "      <td>Rapid</td>\n",
       "      <td>69ec8d4f776200897422a4b8f93d3416a36781fe110d75...</td>\n",
       "      <td>Vlakdraad nieten. Oorspronkelijk ontworpen voo...</td>\n",
       "      <td>Rapid Nieten - No 970 - 8 mm</td>\n",
       "      <td>9200000010411327</td>\n",
       "      <td>bol</td>\n",
       "    </tr>\n",
       "    <tr>\n",
       "      <th>3</th>\n",
       "      <td>Differnz</td>\n",
       "      <td>f03ef881a1d1934c62b9db6b4403a59ae34de96148f362...</td>\n",
       "      <td>Toiletmeubel Fabulous 40 is een van de meest v...</td>\n",
       "      <td>Differnz Fabulous Fonteinmeubel - 40 cm - Wit</td>\n",
       "      <td>9200000051330319</td>\n",
       "      <td>bol</td>\n",
       "    </tr>\n",
       "    <tr>\n",
       "      <th>4</th>\n",
       "      <td>Pickup</td>\n",
       "      <td>aaff0aa6db24814ad25d5cb410ded08361ab32bcb953e1...</td>\n",
       "      <td>Pickup pictogram is zelfklevend, weerbestendig...</td>\n",
       "      <td>Pickup pictogram P621 \"Heren\"</td>\n",
       "      <td>1409779</td>\n",
       "      <td>planit</td>\n",
       "    </tr>\n",
       "  </tbody>\n",
       "</table>\n",
       "</div>"
      ],
      "text/plain": [
       "      BRAND                                          DALTIX_ID  \\\n",
       "0   Kärcher  43823f3f6826dcfd1f14b5898d742a1ead54937001f980...   \n",
       "1    Levi's  2258f16fa7ff7aab35c4534ac645017637d072f2fee9cc...   \n",
       "2     Rapid  69ec8d4f776200897422a4b8f93d3416a36781fe110d75...   \n",
       "3  Differnz  f03ef881a1d1934c62b9db6b4403a59ae34de96148f362...   \n",
       "4    Pickup  aaff0aa6db24814ad25d5cb410ded08361ab32bcb953e1...   \n",
       "\n",
       "                                         DESCRIPTION  \\\n",
       "0  De velgenreiniger 'Car & Bike' van Kärcher is ...   \n",
       "1  De matte muurverf Originals potloodgrijs van L...   \n",
       "2  Vlakdraad nieten. Oorspronkelijk ontworpen voo...   \n",
       "3  Toiletmeubel Fabulous 40 is een van de meest v...   \n",
       "4  Pickup pictogram is zelfklevend, weerbestendig...   \n",
       "\n",
       "                                            NAME        PRODUCT_ID    SHOP  \n",
       "0      Kärcher velgenreiniger 'Car & Bike' 0,5 L           5305104  planit  \n",
       "1       Muurverf Originals mat 2,5l potloodgrijs  9200000095428359     bol  \n",
       "2                   Rapid Nieten - No 970 - 8 mm  9200000010411327     bol  \n",
       "3  Differnz Fabulous Fonteinmeubel - 40 cm - Wit  9200000051330319     bol  \n",
       "4                  Pickup pictogram P621 \"Heren\"           1409779  planit  "
      ]
     },
     "execution_count": 15,
     "metadata": {},
     "output_type": "execute_result"
    }
   ],
   "source": [
    "df.head()"
   ]
  },
  {
   "cell_type": "code",
   "execution_count": null,
   "metadata": {},
   "outputs": [],
   "source": []
  }
 ],
 "metadata": {
  "kernelspec": {
   "display_name": "Python 3",
   "language": "python",
   "name": "python3"
  },
  "language_info": {
   "codemirror_mode": {
    "name": "ipython",
    "version": 3
   },
   "file_extension": ".py",
   "mimetype": "text/x-python",
   "name": "python",
   "nbconvert_exporter": "python",
   "pygments_lexer": "ipython3",
   "version": "3.7.1"
  }
 },
 "nbformat": 4,
 "nbformat_minor": 2
}
