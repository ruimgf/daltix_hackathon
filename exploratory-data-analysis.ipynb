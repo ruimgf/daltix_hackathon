{
 "cells": [
  {
   "cell_type": "code",
   "execution_count": 8,
   "metadata": {},
   "outputs": [],
   "source": [
    "import json\n",
    "\n",
    "from smart_open import smart_open\n",
    "import pandas as pd\n"
   ]
  },
  {
   "cell_type": "code",
   "execution_count": 3,
   "metadata": {},
   "outputs": [
    {
     "name": "stdout",
     "output_type": "stream",
     "text": [
      " 35M\t./data/dataset.jsonl.gz\r\n"
     ]
    }
   ],
   "source": [
    "! du -hs ./data/dataset.jsonl.gz"
   ]
  },
  {
   "cell_type": "code",
   "execution_count": 4,
   "metadata": {},
   "outputs": [],
   "source": [
    "with smart_open('./data/dataset.jsonl.gz') as fh:\n",
    "    dataset = [\n",
    "        json.loads(line.decode('utf-8'))\n",
    "        for line in fh\n",
    "    ]"
   ]
  },
  {
   "cell_type": "code",
   "execution_count": 5,
   "metadata": {},
   "outputs": [
    {
     "data": {
      "text/plain": [
       "101781"
      ]
     },
     "execution_count": 5,
     "metadata": {},
     "output_type": "execute_result"
    }
   ],
   "source": [
    "len(dataset)"
   ]
  },
  {
   "cell_type": "code",
   "execution_count": 6,
   "metadata": {},
   "outputs": [
    {
     "name": "stdout",
     "output_type": "stream",
     "text": [
      "DALTIX_ID\n",
      "DISPLAY_URL\n",
      "SHOP\n",
      "NAME\n",
      "BRAND\n",
      "CONTENTS\n",
      "DESCRIPTION\n",
      "SPECIFICATIONS\n",
      "PRODUCT_ID\n"
     ]
    }
   ],
   "source": [
    "print('\\n'.join(dataset[0].keys()))"
   ]
  },
  {
   "cell_type": "code",
   "execution_count": 10,
   "metadata": {},
   "outputs": [
    {
     "data": {
      "text/plain": [
       "{'DALTIX_ID': '43823f3f6826dcfd1f14b5898d742a1ead54937001f9800d6a115e86c9381b98',\n",
       " 'DISPLAY_URL': \"https://www.plan-it.be/nl/tuin-buitenleven/auto-accessoires/autoreiniging/kärcher-velgenreiniger-'car-bike'-0-5-l/5305104\",\n",
       " 'SHOP': 'planit',\n",
       " 'NAME': \"Kärcher velgenreiniger 'Car & Bike' 0,5 L\",\n",
       " 'BRAND': 'Kärcher',\n",
       " 'CONTENTS': [],\n",
       " 'DESCRIPTION': \"De velgenreiniger 'Car & Bike' van Kärcher is geschikt om remsporen, wintervuil en ander straatvuil van alle soorten wielen te kuisen. Dankzij zijn slimme kleurverandering geeft hij aan wanneer de wielen klaar zijn om af te spoelen.\",\n",
       " 'SPECIFICATIONS': {'Inhoud': '\"500.0 ml\"', 'Toepassing': '\"Reiniging\"'},\n",
       " 'PRODUCT_ID': '5305104'}"
      ]
     },
     "execution_count": 10,
     "metadata": {},
     "output_type": "execute_result"
    }
   ],
   "source": [
    "dataset[0]"
   ]
  },
  {
   "cell_type": "code",
   "execution_count": 9,
   "metadata": {},
   "outputs": [
    {
     "ename": "NameError",
     "evalue": "name 'df' is not defined",
     "output_type": "error",
     "traceback": [
      "\u001b[0;31m---------------------------------------------------------------------------\u001b[0m",
      "\u001b[0;31mNameError\u001b[0m                                 Traceback (most recent call last)",
      "\u001b[0;32m<ipython-input-9-c42a15b2c7cf>\u001b[0m in \u001b[0;36m<module>\u001b[0;34m\u001b[0m\n\u001b[0;32m----> 1\u001b[0;31m \u001b[0mdf\u001b[0m\u001b[0;34m.\u001b[0m\u001b[0mhead\u001b[0m\u001b[0;34m(\u001b[0m\u001b[0;34m)\u001b[0m\u001b[0;34m\u001b[0m\u001b[0;34m\u001b[0m\u001b[0m\n\u001b[0m",
      "\u001b[0;31mNameError\u001b[0m: name 'df' is not defined"
     ]
    }
   ],
   "source": [
    "df.head()"
   ]
  },
  {
   "cell_type": "code",
   "execution_count": null,
   "metadata": {},
   "outputs": [],
   "source": []
  }
 ],
 "metadata": {
  "kernelspec": {
   "display_name": "Python 3",
   "language": "python",
   "name": "python3"
  },
  "language_info": {
   "codemirror_mode": {
    "name": "ipython",
    "version": 3
   },
   "file_extension": ".py",
   "mimetype": "text/x-python",
   "name": "python",
   "nbconvert_exporter": "python",
   "pygments_lexer": "ipython3",
   "version": "3.7.1"
  }
 },
 "nbformat": 4,
 "nbformat_minor": 2
}
